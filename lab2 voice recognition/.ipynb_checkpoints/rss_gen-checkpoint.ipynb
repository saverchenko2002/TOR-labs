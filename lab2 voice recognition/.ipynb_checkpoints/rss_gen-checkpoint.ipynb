{
 "cells": [
  {
   "cell_type": "code",
   "execution_count": 1,
   "id": "6ef0a362-6aa8-4ee3-ba63-ff3f3b3de146",
   "metadata": {},
   "outputs": [],
   "source": [
    "import requests\n",
    "import json\n",
    "import os"
   ]
  },
  {
   "cell_type": "code",
   "execution_count": 2,
   "id": "afb2dc7b-1f78-4ba4-8fc2-8bc545c6a7da",
   "metadata": {},
   "outputs": [],
   "source": [
    "def extract_phrases(path):\n",
    "    list_of_phrases = []\n",
    "    with open(path, \"r\", encoding=\"utf-8\") as file:\n",
    "        for line in file:\n",
    "            list_of_phrases.append(line.strip())\n",
    "    return list_of_phrases"
   ]
  },
  {
   "cell_type": "code",
   "execution_count": 3,
   "id": "587fa78b-ac68-458d-ae83-ee48f6dccea7",
   "metadata": {},
   "outputs": [],
   "source": [
    "def download_mp3(url, filename):\n",
    "    response = requests.get(url)\n",
    "    if response.status_code == 200:\n",
    "        with open(filename, 'wb') as file:\n",
    "            file.write(response.content)\n",
    "        print(\"Аудиофайл успешно скачан.\")\n",
    "    else:\n",
    "        print(\"Не удалось скачать аудиофайл.\")"
   ]
  },
  {
   "cell_type": "code",
   "execution_count": 7,
   "id": "1807423d-21d8-4719-9bbe-7ca8dd1df38c",
   "metadata": {},
   "outputs": [],
   "source": [
    "phrases_path = \"phrases.txt\"\n",
    "save_directory = \"generated audio\"\n",
    "prefix = \"rss_\"\n",
    "\n",
    "api_key = \"833404e41ec34e19bc991ad39320f3de\"\n",
    "locale = \"ru-ru\"\n",
    "codec = \"MP3\"\n",
    "audio_format = \"44khz_16bit_mono\"\n",
    "\n",
    "voice_list = [\"Olga\", \"Marina\", \"Peter\"]\n"
   ]
  },
  {
   "cell_type": "code",
   "execution_count": 6,
   "id": "3e053ae7-9d15-4aae-85ab-fb5707776f37",
   "metadata": {},
   "outputs": [
    {
     "name": "stdout",
     "output_type": "stream",
     "text": [
      "['Солнце светит ярко', 'Голубой океан шумит', 'Рыжий кот мурлычет', 'Белый снег покрывает', 'Черный ворон каркает', 'Зеленая трава растет', 'Красные розы цветут', 'Желтый цветок пахнет', 'Фиолетовый бархат мягкий', 'Оранжевый апельсин сочный']\n"
     ]
    }
   ],
   "source": [
    "phrases = extract_phrases(phrases_path)\n",
    "print(phrases)"
   ]
  },
  {
   "cell_type": "code",
   "execution_count": 8,
   "id": "1e0fca49-ea2a-4c37-934b-18a898edc999",
   "metadata": {},
   "outputs": [
    {
     "name": "stdout",
     "output_type": "stream",
     "text": [
      "Аудиофайл успешно скачан.\n",
      "Аудиофайл успешно скачан.\n",
      "Аудиофайл успешно скачан.\n",
      "Аудиофайл успешно скачан.\n",
      "Аудиофайл успешно скачан.\n",
      "Аудиофайл успешно скачан.\n",
      "Аудиофайл успешно скачан.\n",
      "Аудиофайл успешно скачан.\n",
      "Аудиофайл успешно скачан.\n",
      "Аудиофайл успешно скачан.\n",
      "Аудиофайл успешно скачан.\n",
      "Аудиофайл успешно скачан.\n",
      "Аудиофайл успешно скачан.\n",
      "Аудиофайл успешно скачан.\n",
      "Аудиофайл успешно скачан.\n",
      "Аудиофайл успешно скачан.\n",
      "Аудиофайл успешно скачан.\n",
      "Аудиофайл успешно скачан.\n",
      "Аудиофайл успешно скачан.\n",
      "Аудиофайл успешно скачан.\n",
      "Аудиофайл успешно скачан.\n",
      "Аудиофайл успешно скачан.\n",
      "Аудиофайл успешно скачан.\n",
      "Аудиофайл успешно скачан.\n",
      "Аудиофайл успешно скачан.\n",
      "Аудиофайл успешно скачан.\n",
      "Аудиофайл успешно скачан.\n",
      "Аудиофайл успешно скачан.\n",
      "Аудиофайл успешно скачан.\n",
      "Аудиофайл успешно скачан.\n"
     ]
    }
   ],
   "source": [
    "for voice in voice_list:\n",
    "    for phrase in phrases:\n",
    "        tts_url = f\"http://api.voicerss.org/?key={api_key}&src={phrase}&hl={locale}&v={voice}&c={codec}&f={audio_format}\"\n",
    "        download_mp3(tts_url, save_directory + \"\\\\\" + prefix + voice + \"_\" + phrase + \".mp3\")"
   ]
  },
  {
   "cell_type": "code",
   "execution_count": null,
   "id": "fd5d4dce-bc7c-4ef1-9f2a-420edb33d7c8",
   "metadata": {},
   "outputs": [],
   "source": []
  }
 ],
 "metadata": {
  "kernelspec": {
   "display_name": "Python 3",
   "language": "python",
   "name": "python3"
  },
  "language_info": {
   "codemirror_mode": {
    "name": "ipython",
    "version": 3
   },
   "file_extension": ".py",
   "mimetype": "text/x-python",
   "name": "python",
   "nbconvert_exporter": "python",
   "pygments_lexer": "ipython3",
   "version": "3.9.2"
  }
 },
 "nbformat": 4,
 "nbformat_minor": 5
}
