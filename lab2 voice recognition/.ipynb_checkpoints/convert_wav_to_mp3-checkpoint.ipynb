{
 "cells": [
  {
   "cell_type": "code",
   "execution_count": 1,
   "id": "18d96be0-71f6-4c85-9755-53eb94d6b35d",
   "metadata": {},
   "outputs": [],
   "source": [
    "import os\n",
    "from pydub import AudioSegment"
   ]
  },
  {
   "cell_type": "code",
   "execution_count": 2,
   "id": "a3bbe63b-0432-46c3-8103-81a5f17d3581",
   "metadata": {},
   "outputs": [],
   "source": [
    "def convert_wav_to_mp3(input_folder):\n",
    "    for root, dirs, files in os.walk(input_folder):\n",
    "        for filename in files:\n",
    "            if filename.endswith(\".wav\"):\n",
    "                input_file_path = os.path.join(root, filename)\n",
    "                \n",
    "                output_file_path = input_file_path.replace(\".wav\", \"_temp.mp3\")\n",
    "\n",
    "                sound = AudioSegment.from_wav(input_file_path)\n",
    "                print(output_file_path)\n",
    "                sound.export(output_file_path, format=\"mp3\")\n",
    "                print(input_file_path)\n",
    "                os.remove(input_file_path)\n",
    "                \n",
    "                \n",
    "                os.rename(output_file_path, input_file_path.replace(\".wav\", \".mp3\"))"
   ]
  },
  {
   "cell_type": "code",
   "execution_count": null,
   "id": "eff942d6-6f6f-49b2-b54e-70caab5f36be",
   "metadata": {},
   "outputs": [],
   "source": [
    "# https://stackoverflow.com/questions/74651215/couldnt-find-ffmpeg-or-avconv-python"
   ]
  }
 ],
 "metadata": {
  "kernelspec": {
   "display_name": "Python 3",
   "language": "python",
   "name": "python3"
  },
  "language_info": {
   "codemirror_mode": {
    "name": "ipython",
    "version": 3
   },
   "file_extension": ".py",
   "mimetype": "text/x-python",
   "name": "python",
   "nbconvert_exporter": "python",
   "pygments_lexer": "ipython3",
   "version": "3.9.2"
  }
 },
 "nbformat": 4,
 "nbformat_minor": 5
}
