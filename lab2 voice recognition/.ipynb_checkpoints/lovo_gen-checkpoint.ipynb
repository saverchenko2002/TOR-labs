{
 "cells": [
  {
   "cell_type": "code",
   "execution_count": 1,
   "id": "9a025657-0cec-468d-a103-adb7f5d71db7",
   "metadata": {},
   "outputs": [],
   "source": [
    "import requests\n",
    "import json\n",
    "import os"
   ]
  },
  {
   "cell_type": "code",
   "execution_count": 2,
   "id": "e1a89a93-d423-4f15-b45c-22de994e5bcc",
   "metadata": {},
   "outputs": [],
   "source": [
    "def extract_phrases(path):\n",
    "    list_of_phrases = []\n",
    "    with open(path, \"r\", encoding=\"utf-8\") as file:\n",
    "        for line in file:\n",
    "            list_of_phrases.append(line.strip())\n",
    "    return list_of_phrases"
   ]
  },
  {
   "cell_type": "code",
   "execution_count": 3,
   "id": "56fb19b1-8555-4fa8-9966-5783d39fbf83",
   "metadata": {},
   "outputs": [],
   "source": [
    "def extract_voices(locale, headers, url):\n",
    "    response = requests.get(url, headers=headers)\n",
    "    voices_json_string = response.text\n",
    "    data = json.loads(voices_json_string)\n",
    "    return [voice for voice in data['data'] if voice['locale'] == locale]"
   ]
  },
  {
   "cell_type": "code",
   "execution_count": 4,
   "id": "f851dce8-2d2f-4b3d-ac97-978b73a6e72a",
   "metadata": {},
   "outputs": [],
   "source": [
    "def get_audio_link(content, speaker_id, headers, url):\n",
    "    \n",
    "    payload = {\n",
    "        \"speed\": 1,\n",
    "        \"text\": content,\n",
    "        \"speaker\": speaker_id\n",
    "    }\n",
    "    \n",
    "    response = requests.post(url, json=payload, headers=headers)\n",
    "    data=json.loads(response.text)\n",
    "    \n",
    "    return data[\"data\"][0][\"urls\"][0]"
   ]
  },
  {
   "cell_type": "code",
   "execution_count": 5,
   "id": "023fdc4e-c0ea-44cb-9651-0db7857ae524",
   "metadata": {},
   "outputs": [],
   "source": [
    "def download_mp3(url, filename):\n",
    "    response = requests.get(url)\n",
    "    if response.status_code == 200:\n",
    "        with open(filename, 'wb') as file:\n",
    "            file.write(response.content)\n",
    "        print(\"Аудиофайл успешно скачан.\")\n",
    "    else:\n",
    "        print(\"Не удалось скачать аудиофайл.\")"
   ]
  },
  {
   "cell_type": "code",
   "execution_count": null,
   "id": "34f3c83b-7ad0-401c-a71a-f7952f7579c9",
   "metadata": {},
   "outputs": [],
   "source": []
  }
 ],
 "metadata": {
  "kernelspec": {
   "display_name": "Python 3",
   "language": "python",
   "name": "python3"
  },
  "language_info": {
   "codemirror_mode": {
    "name": "ipython",
    "version": 3
   },
   "file_extension": ".py",
   "mimetype": "text/x-python",
   "name": "python",
   "nbconvert_exporter": "python",
   "pygments_lexer": "ipython3",
   "version": "3.9.2"
  }
 },
 "nbformat": 4,
 "nbformat_minor": 5
}
