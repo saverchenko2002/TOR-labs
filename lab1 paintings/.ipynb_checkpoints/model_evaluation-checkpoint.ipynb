{
 "cells": [
  {
   "cell_type": "code",
   "execution_count": 4,
   "id": "35217299-4e07-4692-8775-1df6affac24f",
   "metadata": {},
   "outputs": [],
   "source": [
    "import os\n",
    "from PIL import Image"
   ]
  },
  {
   "cell_type": "code",
   "execution_count": 6,
   "id": "ca169d36-ed37-4e75-9cd6-bc9115b976d7",
   "metadata": {},
   "outputs": [
    {
     "name": "stderr",
     "output_type": "stream",
     "text": [
      "<ipython-input-6-78db6fcaca8a>:9: DeprecationWarning: ANTIALIAS is deprecated and will be removed in Pillow 10 (2023-07-01). Use Resampling.LANCZOS instead.\n",
      "  resized_image = image.resize(target_size, Image.ANTIALIAS)\n"
     ]
    }
   ],
   "source": [
    "image_dir = \"images_test\"\n",
    "\n",
    "target_size = (512, 512)\n",
    "\n",
    "for filename in os.listdir(image_dir):\n",
    "    file_path = os.path.join(image_dir, filename)\n",
    "    \n",
    "    image = Image.open(file_path)\n",
    "    resized_image = image.resize(target_size, Image.ANTIALIAS)\n",
    "        \n",
    "    resized_image.save(file_path)"
   ]
  },
  {
   "cell_type": "code",
   "execution_count": null,
   "id": "08b344c9-1d8b-471b-91f9-66f512d2d069",
   "metadata": {},
   "outputs": [],
   "source": []
  },
  {
   "cell_type": "code",
   "execution_count": 7,
   "id": "283bae60-a287-4bcf-a656-b96b66aafb11",
   "metadata": {},
   "outputs": [
    {
     "ename": "SystemExit",
     "evalue": "0",
     "output_type": "error",
     "traceback": [
      "An exception has occurred, use %tb to see the full traceback.\n",
      "\u001b[1;31mSystemExit\u001b[0m\u001b[1;31m:\u001b[0m 0\n"
     ]
    },
    {
     "name": "stderr",
     "output_type": "stream",
     "text": [
      "c:\\users\\sergeysaber\\pyver\\py392\\lib\\site-packages\\IPython\\core\\interactiveshell.py:3445: UserWarning: To exit: use 'exit', 'quit', or Ctrl-D.\n",
      "  warn(\"To exit: use 'exit', 'quit', or Ctrl-D.\", stacklevel=1)\n"
     ]
    }
   ],
   "source": [
    "import sys\n",
    "import os\n",
    "import pandas as pd\n",
    "from PyQt5.QtWidgets import QApplication, QMainWindow, QLabel, QPushButton, QVBoxLayout, QHBoxLayout, QWidget, QSlider\n",
    "from PyQt5.QtGui import QPixmap\n",
    "from PyQt5.QtCore import Qt\n",
    "\n",
    "from os import environ\n",
    "\n",
    "def suppress_qt_warnings():\n",
    "    environ[\"QT_DEVICE_PIXEL_RATIO\"] = \"0\"\n",
    "    environ[\"QT_AUTO_SCREEN_SCALE_FACTOR\"] = \"1\"\n",
    "    environ[\"QT_SCREEN_SCALE_FACTORS\"] = \"1\"\n",
    "    environ[\"QT_SCALE_FACTOR\"] = \"1\"\n",
    "    \n",
    "class ImageViewer(QMainWindow):\n",
    "    def __init__(self, image_dir):\n",
    "        super().__init__()\n",
    "        self.image_dir = image_dir\n",
    "        self.image_files = [f for f in os.listdir(image_dir) if f.endswith('.jpeg')]\n",
    "        self.current_index = 0\n",
    "        self.rating_map = {image_file: [0, 0, 0, 0] for image_file in self.image_files}\n",
    "        self.csv_file = 'test_dataset_markup.csv'\n",
    "        \n",
    "        self.initUI()\n",
    "        self.load_or_create_csv()\n",
    "    \n",
    "    def initUI(self):\n",
    "        self.setGeometry(100, 100, 600, 600)\n",
    "        self.setWindowTitle('Image Viewer')\n",
    "        \n",
    "        layout = QVBoxLayout()\n",
    "        \n",
    "        self.image_label = QLabel(self)\n",
    "        layout.addWidget(self.image_label)\n",
    "        \n",
    "        self.slider_layout = QVBoxLayout()\n",
    "        self.sliders = []\n",
    "        for criteria in [\"Эмоциональная окраска\", \"Сложность сюжета\", \"Интересность\", \"Качество исполнения\"]:\n",
    "            slider_layout = QHBoxLayout()\n",
    "            label = QLabel(criteria)\n",
    "            slider_layout.addWidget(label)\n",
    "            slider = QSlider()\n",
    "            slider.setOrientation(Qt.Horizontal)\n",
    "            slider.setMinimum(0)\n",
    "            slider.setMaximum(10)\n",
    "            slider.setTickInterval(1)\n",
    "            slider.setTickPosition(QSlider.TicksBelow)\n",
    "            slider_layout.addWidget(slider)\n",
    "            self.sliders.append(slider)\n",
    "            slider.valueChanged.connect(lambda value, index=len(self.sliders)-1, self=self: self.update_ratings(index, value))  # Исправлено передача аргументов\n",
    "            self.slider_layout.addLayout(slider_layout)\n",
    "\n",
    "        layout.addLayout(self.slider_layout)\n",
    "        \n",
    "        button_layout = QHBoxLayout()\n",
    "        self.btn_prev = QPushButton('Previous')\n",
    "        self.btn_prev.clicked.connect(self.prev_image)\n",
    "        button_layout.addWidget(self.btn_prev)\n",
    "        \n",
    "        self.btn_next = QPushButton('Next')\n",
    "        self.btn_next.clicked.connect(self.next_image)\n",
    "        button_layout.addWidget(self.btn_next)\n",
    "        \n",
    "        layout.addLayout(button_layout)\n",
    "        \n",
    "        central_widget = QWidget()\n",
    "        central_widget.setLayout(layout)\n",
    "        self.setCentralWidget(central_widget)\n",
    "        \n",
    "        self.update_image()\n",
    "        \n",
    "    def update_image(self):\n",
    "        image_path = os.path.join(self.image_dir, self.image_files[self.current_index])\n",
    "        pixmap = QPixmap(image_path)\n",
    "        self.image_label.setPixmap(pixmap)\n",
    "        self.setWindowTitle(os.path.splitext(self.image_files[self.current_index])[0])\n",
    "        \n",
    "        # Устанавливаем значения слайдеров на основе карты оценок\n",
    "        if self.image_files[self.current_index] in self.rating_map:\n",
    "            ratings = self.rating_map[self.image_files[self.current_index]]\n",
    "            for i, slider in enumerate(self.sliders):\n",
    "                slider.setValue(ratings[i])\n",
    "        \n",
    "    def update_ratings(self, index, value):\n",
    "        self.rating_map[self.image_files[self.current_index]][index] = value\n",
    "        self.save_to_csv()  # Сохраняем в CSV при изменении оценок\n",
    "        \n",
    "    def next_image(self):\n",
    "        self.current_index = (self.current_index + 1) % len(self.image_files)\n",
    "        self.update_image()\n",
    "        \n",
    "    def prev_image(self):\n",
    "        self.current_index = (self.current_index - 1) % len(self.image_files)\n",
    "        self.update_image()\n",
    "        \n",
    "    def load_or_create_csv(self):\n",
    "        if os.path.exists(self.csv_file):\n",
    "            df = pd.read_csv(self.csv_file)\n",
    "            for idx, row in df.iterrows():\n",
    "                image_path = row['Image_path']\n",
    "                if image_path in self.image_files:\n",
    "                    ratings = [row['Emotional_coloring'], row['Plot_complexity'], row['Interest'], row['Sound_quality']]\n",
    "                    self.rating_map[image_path] = ratings\n",
    "        \n",
    "        self.update_image()  # Обновляем изображение после загрузки оценок\n",
    "    \n",
    "    def save_to_csv(self):\n",
    "        df = pd.DataFrame.from_dict(self.rating_map, orient='index', columns=['Emotional_coloring', 'Plot_complexity', 'Interest', 'Sound_quality'])\n",
    "        df.index.name = 'Image_path'\n",
    "        df.reset_index(inplace=True)\n",
    "        df.to_csv(self.csv_file, index=False)\n",
    "\n",
    "if __name__ == '__main__':\n",
    "    suppress_qt_warnings()\n",
    "    app = QApplication(sys.argv)  \n",
    "    image_dir = \"images_test\"\n",
    "    viewer = ImageViewer(image_dir)\n",
    "    viewer.show()\n",
    "    sys.exit(app.exec_())"
   ]
  },
  {
   "cell_type": "code",
   "execution_count": 8,
   "id": "9665f654-baf1-4c1d-b069-03d24e69c8f9",
   "metadata": {},
   "outputs": [
    {
     "name": "stdout",
     "output_type": "stream",
     "text": [
      "                   Image_path  Emotional_coloring  Plot_complexity  Interest  \\\n",
      "0      картины войны_001.jpeg                   3                9         5   \n",
      "1      картины войны_002.jpeg                   5                9         4   \n",
      "2      картины войны_003.jpeg                   5                9         4   \n",
      "3     картины женщин_001.jpeg                   9                0         9   \n",
      "4     картины женщин_002.jpeg                   7                0         4   \n",
      "5     картины женщин_003.jpeg                   9                0         9   \n",
      "6   картины животных_001.jpeg                   2                0         0   \n",
      "7   картины животных_002.jpeg                   3                0         0   \n",
      "8   картины животных_003.jpeg                   3                0         0   \n",
      "9    картины фруктов_001.jpeg                   3                0         0   \n",
      "10   картины фруктов_002.jpeg                   3                0         0   \n",
      "11   картины фруктов_003.jpeg                   2                0         0   \n",
      "\n",
      "    Sound_quality  \n",
      "0               4  \n",
      "1               9  \n",
      "2               7  \n",
      "3               5  \n",
      "4               4  \n",
      "5               5  \n",
      "6               4  \n",
      "7               3  \n",
      "8               3  \n",
      "9               8  \n",
      "10              4  \n",
      "11              2  \n"
     ]
    }
   ],
   "source": [
    "df = pd.read_csv('test_dataset_markup.csv')\n",
    "\n",
    "print(df.head(50))"
   ]
  },
  {
   "cell_type": "code",
   "execution_count": null,
   "id": "3d3cc55a-0431-4f31-9959-6ded473995cf",
   "metadata": {},
   "outputs": [],
   "source": []
  }
 ],
 "metadata": {
  "kernelspec": {
   "display_name": "Python 3",
   "language": "python",
   "name": "python3"
  },
  "language_info": {
   "codemirror_mode": {
    "name": "ipython",
    "version": 3
   },
   "file_extension": ".py",
   "mimetype": "text/x-python",
   "name": "python",
   "nbconvert_exporter": "python",
   "pygments_lexer": "ipython3",
   "version": "3.9.2"
  }
 },
 "nbformat": 4,
 "nbformat_minor": 5
}
