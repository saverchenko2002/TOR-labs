{
 "cells": [
  {
   "cell_type": "code",
   "execution_count": 80,
   "id": "b12ca60d-927a-4ca9-a420-0eb9eb5c8bbb",
   "metadata": {},
   "outputs": [],
   "source": [
    "import requests\n",
    "import json\n",
    "import os"
   ]
  },
  {
   "cell_type": "code",
   "execution_count": 81,
   "id": "57a7c17b-7fc5-44c0-b14b-b5c0b9cfbc65",
   "metadata": {},
   "outputs": [],
   "source": [
    "def extract_phrases(path):\n",
    "    list_of_phrases = []\n",
    "    with open(path, \"r\", encoding=\"utf-8\") as file:\n",
    "        for line in file:\n",
    "            list_of_phrases.append(line.strip())\n",
    "    return list_of_phrases\n",
    "\n",
    "def extract_voices(locale, headers, url):\n",
    "    response = requests.get(url, headers=headers)\n",
    "    voices_json_string = response.text\n",
    "    data = json.loads(voices_json_string)\n",
    "    return [voice for voice in data['data'] if voice['locale'] == locale]\n",
    "\n",
    "def get_audio_link(content, speaker_id, headers, url):\n",
    "    \n",
    "    payload = {\n",
    "        \"speed\": 1,\n",
    "        \"text\": content,\n",
    "        \"speaker\": speaker_id\n",
    "    }\n",
    "    \n",
    "    response = requests.post(url, json=payload, headers=headers)\n",
    "    data=json.loads(response.text)\n",
    "    \n",
    "    return data[\"data\"][0][\"urls\"][0]\n",
    "\n",
    "def download_wav(url, filename):\n",
    "    response = requests.get(url)\n",
    "    if response.status_code == 200:\n",
    "        with open(filename, 'wb') as file:\n",
    "            file.write(response.content)\n",
    "        print(\"Аудиофайл успешно скачан.\")\n",
    "    else:\n",
    "        print(\"Не удалось скачать аудиофайл.\")"
   ]
  },
  {
   "cell_type": "code",
   "execution_count": 82,
   "id": "b1097868-c358-432f-9e84-103ba423023b",
   "metadata": {},
   "outputs": [],
   "source": [
    "initial_phrases_txt_path = r\"C:\\Users\\SergeySaber\\Desktop\\AI works\\university\\labs\\1. tts\\resources\\texts\\crossed_phrases.txt\"\n",
    "\n",
    "api_key = \"f22c44cd-de44-4767-ad88-9eac0dd70476\"\n",
    "\n",
    "voices_url = \"https://api.genny.lovo.ai/api/v1/speakers\"\n",
    "\n",
    "tts_url = \"https://api.genny.lovo.ai/api/v1/tts/sync\"\n",
    "\n",
    "\n",
    "headers = {\n",
    "    \"accept\": \"application/json\",\n",
    "    \"X-API-KEY\": api_key\n",
    "}\n",
    "\n",
    "save_directory = \"C:\\\\Users\\\\SergeySaber\\\\Desktop\\\\AI works\\\\university\\\\labs\\\\1. tts\\\\resources\\\\lovo_crossed\\\\\""
   ]
  },
  {
   "cell_type": "code",
   "execution_count": 83,
   "id": "4e021995-f88c-4ce8-8ca6-7571cfb7f6da",
   "metadata": {},
   "outputs": [],
   "source": [
    "initial_phrases = extract_phrases(initial_phrases_txt_path)"
   ]
  },
  {
   "cell_type": "code",
   "execution_count": 84,
   "id": "a20adda2-1316-4609-9d25-19b8a0a0d45c",
   "metadata": {},
   "outputs": [],
   "source": [
    "russian_voices = extract_voices(\"ru-RU\", headers, voices_url)"
   ]
  },
  {
   "cell_type": "code",
   "execution_count": 85,
   "id": "213d3e47-cbf2-47ae-aa94-23dce795bb8a",
   "metadata": {},
   "outputs": [
    {
     "name": "stdout",
     "output_type": "stream",
     "text": [
      "Аудиофайл успешно скачан.\n",
      "Аудиофайл успешно скачан.\n",
      "Аудиофайл успешно скачан.\n",
      "Аудиофайл успешно скачан.\n",
      "Аудиофайл успешно скачан.\n",
      "Аудиофайл успешно скачан.\n",
      "Аудиофайл успешно скачан.\n",
      "Аудиофайл успешно скачан.\n",
      "Аудиофайл успешно скачан.\n",
      "Аудиофайл успешно скачан.\n",
      "Аудиофайл успешно скачан.\n",
      "Аудиофайл успешно скачан.\n",
      "Аудиофайл успешно скачан.\n",
      "Аудиофайл успешно скачан.\n",
      "Аудиофайл успешно скачан.\n",
      "Аудиофайл успешно скачан.\n",
      "Аудиофайл успешно скачан.\n",
      "Аудиофайл успешно скачан.\n",
      "Аудиофайл успешно скачан.\n",
      "Аудиофайл успешно скачан.\n",
      "Аудиофайл успешно скачан.\n",
      "Аудиофайл успешно скачан.\n",
      "Аудиофайл успешно скачан.\n",
      "Аудиофайл успешно скачан.\n",
      "Аудиофайл успешно скачан.\n",
      "Аудиофайл успешно скачан.\n",
      "Аудиофайл успешно скачан.\n",
      "Аудиофайл успешно скачан.\n",
      "Аудиофайл успешно скачан.\n",
      "Аудиофайл успешно скачан.\n"
     ]
    }
   ],
   "source": [
    "for speaker in russian_voices:\n",
    "    folder_name = save_directory+speaker[\"displayName\"]\n",
    "    if not os.path.exists(folder_name):\n",
    "        os.makedirs(folder_name)\n",
    "    for phrase in initial_phrases:\n",
    "        download_url = get_audio_link(phrase, speaker[\"id\"], headers, tts_url)\n",
    "        download_wav(download_url, folder_name+\"\\\\\"+phrase+\".wav\")"
   ]
  },
  {
   "cell_type": "code",
   "execution_count": null,
   "id": "8b8ea084-4d80-4dc4-a8b8-f141e46a7b36",
   "metadata": {},
   "outputs": [],
   "source": []
  }
 ],
 "metadata": {
  "kernelspec": {
   "display_name": "Python 3",
   "language": "python",
   "name": "python3"
  },
  "language_info": {
   "codemirror_mode": {
    "name": "ipython",
    "version": 3
   },
   "file_extension": ".py",
   "mimetype": "text/x-python",
   "name": "python",
   "nbconvert_exporter": "python",
   "pygments_lexer": "ipython3",
   "version": "3.9.2"
  }
 },
 "nbformat": 4,
 "nbformat_minor": 5
}
