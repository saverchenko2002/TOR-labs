{
 "cells": [
  {
   "cell_type": "code",
   "execution_count": 6,
   "id": "8d171169-377c-45c0-b808-c253bc6346b8",
   "metadata": {},
   "outputs": [],
   "source": [
    "import numpy as np\n",
    "import pandas as pd\n",
    "import os\n",
    "import tensorflow as tf\n",
    "from tensorflow.keras import layers, models\n",
    "from sklearn.model_selection import train_test_split"
   ]
  },
  {
   "cell_type": "code",
   "execution_count": null,
   "id": "b975dd04-5248-4def-9e5f-09fad1864393",
   "metadata": {},
   "outputs": [],
   "source": []
  },
  {
   "cell_type": "code",
   "execution_count": 7,
   "id": "a8635111-cefb-43f5-bb4c-9f3c167d1a76",
   "metadata": {},
   "outputs": [],
   "source": [
    "def data_generator(image_paths, labels, batch_size=4):\n",
    "\n",
    "    while True:\n",
    "        indices = np.random.permutation(len(image_paths))\n",
    "        image_paths = np.array(image_paths)[indices]\n",
    "        labels = labels[indices]\n",
    "        \n",
    "        for i in range(0, len(image_paths), batch_size):\n",
    "            batch_paths = image_paths[i:i+batch_size]\n",
    "            batch_images = [tf.keras.preprocessing.image.load_img(path, target_size=(512, 512)) for path in batch_paths]\n",
    "            batch_images = [tf.keras.preprocessing.image.img_to_array(img) for img in batch_images]\n",
    "            batch_images = np.array(batch_images) / 255.0 \n",
    "            batch_labels = labels[i:i+batch_size]\n",
    "            \n",
    "            yield batch_images, batch_labels\n"
   ]
  },
  {
   "cell_type": "code",
   "execution_count": 8,
   "id": "e71bb9ba-89f5-43e7-970e-542c47e9abc2",
   "metadata": {},
   "outputs": [
    {
     "name": "stdout",
     "output_type": "stream",
     "text": [
      "64 28\n"
     ]
    }
   ],
   "source": [
    "data = pd.read_csv('dataset_markup.csv')\n",
    "\n",
    "image_paths = data['Image_path'].tolist()\n",
    "image_dir = \"images\"\n",
    "image_paths = [os.path.join(image_dir, filename) for filename in image_paths]\n",
    "labels = data[['Emotional_coloring', 'Plot_complexity', 'Interest', 'Sound_quality']].values\n",
    "\n",
    "train_image_paths, test_image_paths, train_labels, test_labels = train_test_split(image_paths, labels, test_size=0.3, random_state=42)\n",
    "batch_size=4\n",
    "\n",
    "\n",
    "print(len(train_image_paths), len(test_image_paths))\n"
   ]
  },
  {
   "cell_type": "code",
   "execution_count": 9,
   "id": "ab9f91a4-1010-462d-a997-23bd9ede997c",
   "metadata": {},
   "outputs": [],
   "source": [
    "train_generator = data_generator(train_image_paths, train_labels)\n",
    "test_generator = data_generator(test_image_paths, test_labels)\n",
    "\n",
    "model = models.Sequential([\n",
    "    layers.Conv2D(32, (3, 3), activation='relu', input_shape=(512, 512, 3)),\n",
    "    layers.MaxPooling2D((2, 2)),\n",
    "    layers.Conv2D(64, (3, 3), activation='relu'),\n",
    "    layers.MaxPooling2D((2, 2)),\n",
    "    layers.Conv2D(128, (3, 3), activation='relu'),\n",
    "    layers.MaxPooling2D((2, 2)),\n",
    "    layers.Flatten(),\n",
    "    layers.Dense(64, activation='relu'),\n",
    "    layers.Dense(4)  # Выходной слой с 4 нейронами для каждого критерия оценки\n",
    "])\n",
    "\n",
    "model.compile(optimizer='adam',\n",
    "              loss='mse',  # Среднеквадратичная ошибка\n",
    "              metrics=['mae'])  # Средняя абсолютная ошибка"
   ]
  },
  {
   "cell_type": "code",
   "execution_count": 10,
   "id": "4bf6a994-6aa9-4742-a00a-8b283886a89d",
   "metadata": {},
   "outputs": [
    {
     "name": "stdout",
     "output_type": "stream",
     "text": [
      "Epoch 1/30\n",
      "16/16 [==============================] - 5s 122ms/step - loss: 50.5440 - mae: 3.5286 - val_loss: 8.2024 - val_mae: 2.1139\n",
      "Epoch 2/30\n",
      "16/16 [==============================] - 2s 110ms/step - loss: 6.7594 - mae: 1.9707 - val_loss: 6.9315 - val_mae: 1.9192\n",
      "Epoch 3/30\n",
      "16/16 [==============================] - 2s 110ms/step - loss: 5.9661 - mae: 1.8712 - val_loss: 6.4657 - val_mae: 1.7884\n",
      "Epoch 4/30\n",
      "16/16 [==============================] - 2s 110ms/step - loss: 5.5469 - mae: 1.7645 - val_loss: 6.6071 - val_mae: 2.0750\n",
      "Epoch 5/30\n",
      "16/16 [==============================] - 2s 110ms/step - loss: 5.0975 - mae: 1.6652 - val_loss: 5.8125 - val_mae: 1.8393\n",
      "Epoch 6/30\n",
      "16/16 [==============================] - 2s 110ms/step - loss: 4.0066 - mae: 1.4733 - val_loss: 5.0790 - val_mae: 1.8830\n",
      "Epoch 7/30\n",
      "16/16 [==============================] - 2s 110ms/step - loss: 2.6533 - mae: 1.2148 - val_loss: 6.1821 - val_mae: 1.7582\n",
      "Epoch 8/30\n",
      "16/16 [==============================] - 2s 110ms/step - loss: 2.2612 - mae: 1.1272 - val_loss: 4.6282 - val_mae: 1.6222\n",
      "Epoch 9/30\n",
      "16/16 [==============================] - 2s 110ms/step - loss: 1.8945 - mae: 1.0056 - val_loss: 4.6703 - val_mae: 1.5951\n",
      "Epoch 10/30\n",
      "16/16 [==============================] - 2s 110ms/step - loss: 1.7329 - mae: 0.9965 - val_loss: 4.8191 - val_mae: 1.6486\n",
      "Epoch 11/30\n",
      "16/16 [==============================] - 2s 110ms/step - loss: 1.2746 - mae: 0.8179 - val_loss: 6.1125 - val_mae: 1.7910\n",
      "Epoch 12/30\n",
      "16/16 [==============================] - 2s 110ms/step - loss: 0.8627 - mae: 0.6984 - val_loss: 4.6652 - val_mae: 1.5322\n",
      "Epoch 13/30\n",
      "16/16 [==============================] - 2s 111ms/step - loss: 0.6434 - mae: 0.6147 - val_loss: 4.9036 - val_mae: 1.7251\n",
      "Epoch 14/30\n",
      "16/16 [==============================] - 2s 112ms/step - loss: 0.5736 - mae: 0.5617 - val_loss: 4.7173 - val_mae: 1.6257\n",
      "Epoch 15/30\n",
      "16/16 [==============================] - 2s 110ms/step - loss: 0.4522 - mae: 0.5077 - val_loss: 4.7260 - val_mae: 1.5800\n",
      "Epoch 16/30\n",
      "16/16 [==============================] - 2s 110ms/step - loss: 0.3300 - mae: 0.4310 - val_loss: 4.2903 - val_mae: 1.3916\n",
      "Epoch 17/30\n",
      "16/16 [==============================] - 2s 110ms/step - loss: 0.2317 - mae: 0.3379 - val_loss: 4.9323 - val_mae: 1.6492\n",
      "Epoch 18/30\n",
      "16/16 [==============================] - 2s 110ms/step - loss: 0.1511 - mae: 0.2677 - val_loss: 4.6973 - val_mae: 1.5943\n",
      "Epoch 19/30\n",
      "16/16 [==============================] - 2s 110ms/step - loss: 0.1144 - mae: 0.2187 - val_loss: 3.7810 - val_mae: 1.3633\n",
      "Epoch 20/30\n",
      "16/16 [==============================] - 2s 110ms/step - loss: 0.0872 - mae: 0.1811 - val_loss: 5.1976 - val_mae: 1.5673\n",
      "Epoch 21/30\n",
      "16/16 [==============================] - 2s 112ms/step - loss: 0.0865 - mae: 0.1865 - val_loss: 4.3765 - val_mae: 1.5267\n",
      "Epoch 22/30\n",
      "16/16 [==============================] - 2s 110ms/step - loss: 0.0663 - mae: 0.1618 - val_loss: 4.5629 - val_mae: 1.5354\n",
      "Epoch 23/30\n",
      "16/16 [==============================] - 2s 110ms/step - loss: 0.0638 - mae: 0.1608 - val_loss: 3.9536 - val_mae: 1.3806\n",
      "Epoch 24/30\n",
      "16/16 [==============================] - 2s 110ms/step - loss: 0.0598 - mae: 0.1574 - val_loss: 4.0729 - val_mae: 1.5131\n",
      "Epoch 25/30\n",
      "16/16 [==============================] - 2s 110ms/step - loss: 0.0480 - mae: 0.1343 - val_loss: 4.2267 - val_mae: 1.4760\n",
      "Epoch 26/30\n",
      "16/16 [==============================] - 2s 111ms/step - loss: 0.0373 - mae: 0.1115 - val_loss: 5.3302 - val_mae: 1.6980\n",
      "Epoch 27/30\n",
      "16/16 [==============================] - 2s 110ms/step - loss: 0.0463 - mae: 0.1460 - val_loss: 4.3949 - val_mae: 1.4999\n",
      "Epoch 28/30\n",
      "16/16 [==============================] - 2s 110ms/step - loss: 0.0502 - mae: 0.1487 - val_loss: 4.9893 - val_mae: 1.6331\n",
      "Epoch 29/30\n",
      "16/16 [==============================] - 2s 112ms/step - loss: 0.0465 - mae: 0.1474 - val_loss: 4.5364 - val_mae: 1.5172\n",
      "Epoch 30/30\n",
      "16/16 [==============================] - 2s 110ms/step - loss: 0.0388 - mae: 0.1327 - val_loss: 4.6543 - val_mae: 1.5620\n"
     ]
    }
   ],
   "source": [
    "history = model.fit(train_generator,\n",
    "                    epochs=30,\n",
    "                    steps_per_epoch=len(train_image_paths) // batch_size,\n",
    "                    validation_data=test_generator,\n",
    "                    validation_steps=len(test_image_paths) // batch_size,\n",
    "                    verbose=1)"
   ]
  },
  {
   "cell_type": "code",
   "execution_count": null,
   "id": "a4efb296-d449-4066-86ad-7c8eeaf72365",
   "metadata": {},
   "outputs": [],
   "source": []
  },
  {
   "cell_type": "code",
   "execution_count": 11,
   "id": "1c308d87-5330-4cef-8e00-2fea0c2ef5d6",
   "metadata": {},
   "outputs": [
    {
     "data": {
      "image/png": "[encoded data removed]",
      "text/plain": [
       "<Figure size 432x288 with 1 Axes>"
      ]
     },
     "metadata": {
      "needs_background": "light"
     },
     "output_type": "display_data"
    },
    {
     "data": {
      "image/png": "[encoded data removed]",
      "text/plain": [
       "<Figure size 432x288 with 1 Axes>"
      ]
     },
     "metadata": {
      "needs_background": "light"
     },
     "output_type": "display_data"
    }
   ],
   "source": [
    "import matplotlib.pyplot as plt\n",
    "\n",
    "# График функции потерь\n",
    "plt.plot(history.history['loss'], label='Обучение')\n",
    "plt.plot(history.history['val_loss'], label='Валидация')\n",
    "plt.title('Функция потерь')\n",
    "plt.xlabel('Эпоха')\n",
    "plt.ylabel('Потеря')\n",
    "plt.legend()\n",
    "plt.savefig('loss_plot.png', dpi=300)  # Сохранение графика как изображения\n",
    "plt.show()\n",
    "\n",
    "# График средней абсолютной ошибки\n",
    "plt.plot(history.history['mae'], label='Обучение')\n",
    "plt.plot(history.history['val_mae'], label='Валидация')\n",
    "plt.title('Средняя абсолютная ошибка')\n",
    "plt.xlabel('Эпоха')\n",
    "plt.ylabel('MAE')\n",
    "plt.legend()\n",
    "plt.savefig('mae_plot.png', dpi=300)  # Сохранение графика как изображения\n",
    "plt.show()"
   ]
  },
  {
   "cell_type": "code",
   "execution_count": 12,
   "id": "a1387ad3-21e3-4888-bdd2-0477d88ece11",
   "metadata": {},
   "outputs": [],
   "source": [
    "model.save('paintings_model.h5')"
   ]
  },
  {
   "cell_type": "code",
   "execution_count": 15,
   "id": "1873c825-f874-47fe-b392-078a48577ce9",
   "metadata": {},
   "outputs": [],
   "source": []
  },
  {
   "cell_type": "code",
   "execution_count": 16,
   "id": "c2419077-da09-4229-bcf0-e779520d7fdd",
   "metadata": {},
   "outputs": [],
   "source": []
  },
  {
   "cell_type": "code",
   "execution_count": 17,
   "id": "4986ada4-9f95-4b22-8bd6-3a3ea106276b",
   "metadata": {},
   "outputs": [],
   "source": []
  },
  {
   "cell_type": "code",
   "execution_count": null,
   "id": "af0309ed-1843-4363-a5ee-caa1aa4658ec",
   "metadata": {},
   "outputs": [],
   "source": []
  },
  {
   "cell_type": "code",
   "execution_count": null,
   "id": "fe909257-41e5-4f15-aca5-9b95ecc36362",
   "metadata": {},
   "outputs": [],
   "source": []
  },
  {
   "cell_type": "code",
   "execution_count": null,
   "id": "67a24ce4-9d48-44e3-9012-82162bac1695",
   "metadata": {},
   "outputs": [],
   "source": []
  }
 ],
 "metadata": {
  "kernelspec": {
   "display_name": "Python 3",
   "language": "python",
   "name": "python3"
  },
  "language_info": {
   "codemirror_mode": {
    "name": "ipython",
    "version": 3
   },
   "file_extension": ".py",
   "mimetype": "text/x-python",
   "name": "python",
   "nbconvert_exporter": "python",
   "pygments_lexer": "ipython3",
   "version": "3.9.2"
  }
 },
 "nbformat": 4,
 "nbformat_minor": 5
}
