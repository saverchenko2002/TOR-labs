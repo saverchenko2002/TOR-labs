{
 "cells": [
  {
   "cell_type": "code",
   "execution_count": 1,
   "id": "9a025657-0cec-468d-a103-adb7f5d71db7",
   "metadata": {},
   "outputs": [],
   "source": [
    "import requests\n",
    "import json\n",
    "import os"
   ]
  },
  {
   "cell_type": "code",
   "execution_count": 2,
   "id": "e1a89a93-d423-4f15-b45c-22de994e5bcc",
   "metadata": {},
   "outputs": [],
   "source": [
    "def extract_phrases(path):\n",
    "    list_of_phrases = []\n",
    "    with open(path, \"r\", encoding=\"utf-8\") as file:\n",
    "        for line in file:\n",
    "            list_of_phrases.append(line.strip())\n",
    "    return list_of_phrases"
   ]
  },
  {
   "cell_type": "code",
   "execution_count": 3,
   "id": "56fb19b1-8555-4fa8-9966-5783d39fbf83",
   "metadata": {},
   "outputs": [],
   "source": [
    "def extract_voices(locale, headers, url):\n",
    "    response = requests.get(url, headers=headers)\n",
    "    voices_json_string = response.text\n",
    "    data = json.loads(voices_json_string)\n",
    "    return [voice for voice in data['data'] if voice['locale'] == locale]"
   ]
  },
  {
   "cell_type": "code",
   "execution_count": 4,
   "id": "f851dce8-2d2f-4b3d-ac97-978b73a6e72a",
   "metadata": {},
   "outputs": [],
   "source": [
    "def get_audio_link(content, speaker_id, headers, url):\n",
    "    \n",
    "    payload = {\n",
    "        \"speed\": 1,\n",
    "        \"text\": content,\n",
    "        \"speaker\": speaker_id\n",
    "    }\n",
    "    \n",
    "    response = requests.post(url, json=payload, headers=headers)\n",
    "    data=json.loads(response.text)\n",
    "    \n",
    "    return data[\"data\"][0][\"urls\"][0]"
   ]
  },
  {
   "cell_type": "code",
   "execution_count": 5,
   "id": "023fdc4e-c0ea-44cb-9651-0db7857ae524",
   "metadata": {},
   "outputs": [],
   "source": [
    "def download_mp3(url, filename):\n",
    "    response = requests.get(url)\n",
    "    if response.status_code == 200:\n",
    "        with open(filename, 'wb') as file:\n",
    "            file.write(response.content)\n",
    "        print(\"Аудиофайл успешно скачан.\")\n",
    "    else:\n",
    "        print(\"Не удалось скачать аудиофайл.\")"
   ]
  },
  {
   "cell_type": "code",
   "execution_count": 11,
   "id": "34f3c83b-7ad0-401c-a71a-f7952f7579c9",
   "metadata": {},
   "outputs": [],
   "source": [
    "phrases_path = \"phrases.txt\"\n",
    "save_directory = \"generated audio\"\n",
    "prefix = \"lovo_\"\n",
    "\n",
    "api_key = \"f019bea9-8de4-482c-838b-67beccac9dde\"\n",
    "locale = \"ru-RU\"\n",
    "\n",
    "headers = {\n",
    "    \"accept\": \"application/json\",\n",
    "    \"X-API-KEY\": api_key\n",
    "}\n",
    "voices_url = \"https://api.genny.lovo.ai/api/v1/speakers\"\n",
    "tts_url = \"https://api.genny.lovo.ai/api/v1/tts/sync\""
   ]
  },
  {
   "cell_type": "code",
   "execution_count": 9,
   "id": "8e292690-06b6-4353-90ef-df4295424686",
   "metadata": {},
   "outputs": [
    {
     "name": "stdout",
     "output_type": "stream",
     "text": [
      "['Солнце светит ярко', 'Голубой океан шумит', 'Рыжий кот мурлычет', 'Белый снег покрывает', 'Черный ворон каркает', 'Зеленая трава растет', 'Красные розы цветут', 'Желтый цветок пахнет', 'Фиолетовый бархат мягкий', 'Оранжевый апельсин сочный']\n"
     ]
    }
   ],
   "source": [
    "phrases = extract_phrases(phrases_path)\n",
    "print(phrases)"
   ]
  },
  {
   "cell_type": "code",
   "execution_count": 12,
   "id": "096efa1d-a1b0-4cdb-be83-fe3d80ebde3c",
   "metadata": {},
   "outputs": [],
   "source": [
    "russian_voices = extract_voices(locale, headers, voices_url)"
   ]
  },
  {
   "cell_type": "code",
   "execution_count": 13,
   "id": "7114139c-b33d-4b21-a312-13ac34f8e6f6",
   "metadata": {},
   "outputs": [
    {
     "name": "stdout",
     "output_type": "stream",
     "text": [
      "[{'id': '63b409eb241a82001d51c782', 'displayName': 'Galina Ivanov', 'locale': 'ru-RU', 'gender': 'female', 'imageUrl': 'https://cdn.lovo.ai/f5349e2d/Galina+Ivanov.jpeg', 'speakerType': 'global', 'speakerStyles': [{'deprecated': False, 'id': '63b409eb241a82001d51c783', 'displayName': 'Default', 'sampleTtsUrl': 'https://cdn.lovo.ai/speaker-tts-samples/prod/ru-RU-DariyaNeural-default.wav'}]}, {'id': '63b409f0241a82001d51c78e', 'displayName': 'Nadezhda Smirnoff', 'locale': 'ru-RU', 'gender': 'female', 'imageUrl': 'https://cdn.lovo.ai/f5349e2d/Nadezhda+Smirnoff.jpeg', 'speakerType': 'global', 'speakerStyles': [{'deprecated': False, 'id': '63b409f0241a82001d51c78f', 'displayName': 'Default', 'sampleTtsUrl': 'https://cdn.lovo.ai/speaker-tts-samples/prod/ru-RU-SvetlanaNeural-default.wav'}]}, {'id': '63b409ee241a82001d51c788', 'displayName': 'Pyotr Semenov', 'locale': 'ru-RU', 'gender': 'male', 'imageUrl': 'https://cdn.lovo.ai/f5349e2d/Pyotr+Semenov.jpeg', 'speakerType': 'global', 'speakerStyles': [{'deprecated': False, 'id': '63b409ee241a82001d51c789', 'displayName': 'Default', 'sampleTtsUrl': 'https://cdn.lovo.ai/speaker-tts-samples/prod/ru-RU-DmitryNeural-default.wav'}]}]\n"
     ]
    }
   ],
   "source": [
    "print(russian_voices)"
   ]
  },
  {
   "cell_type": "code",
   "execution_count": 16,
   "id": "d249e480-2655-4069-aa0d-1c2b2551628e",
   "metadata": {},
   "outputs": [
    {
     "name": "stdout",
     "output_type": "stream",
     "text": [
      "Аудиофайл успешно скачан.\n",
      "Аудиофайл успешно скачан.\n",
      "Аудиофайл успешно скачан.\n",
      "Аудиофайл успешно скачан.\n",
      "Аудиофайл успешно скачан.\n",
      "Аудиофайл успешно скачан.\n",
      "Аудиофайл успешно скачан.\n",
      "Аудиофайл успешно скачан.\n",
      "Аудиофайл успешно скачан.\n",
      "Аудиофайл успешно скачан.\n",
      "Аудиофайл успешно скачан.\n",
      "Аудиофайл успешно скачан.\n",
      "Аудиофайл успешно скачан.\n",
      "Аудиофайл успешно скачан.\n",
      "Аудиофайл успешно скачан.\n",
      "Аудиофайл успешно скачан.\n",
      "Аудиофайл успешно скачан.\n",
      "Аудиофайл успешно скачан.\n",
      "Аудиофайл успешно скачан.\n",
      "Аудиофайл успешно скачан.\n",
      "Аудиофайл успешно скачан.\n",
      "Аудиофайл успешно скачан.\n",
      "Аудиофайл успешно скачан.\n",
      "Аудиофайл успешно скачан.\n",
      "Аудиофайл успешно скачан.\n",
      "Аудиофайл успешно скачан.\n",
      "Аудиофайл успешно скачан.\n",
      "Аудиофайл успешно скачан.\n",
      "Аудиофайл успешно скачан.\n",
      "Аудиофайл успешно скачан.\n"
     ]
    }
   ],
   "source": [
    "for voice in russian_voices:\n",
    "    for phrase in phrases:\n",
    "        download_url = get_audio_link(phrase, voice[\"id\"], headers, tts_url)\n",
    "        download_mp3(download_url, save_directory + \"\\\\\" + prefix + voice['displayName'].split()[0] + \"_\" + phrase + \".mp3\")"
   ]
  },
  {
   "cell_type": "code",
   "execution_count": null,
   "id": "172f35a1-9395-42a8-b4f9-a93d1f416d80",
   "metadata": {},
   "outputs": [],
   "source": []
  }
 ],
 "metadata": {
  "kernelspec": {
   "display_name": "Python 3",
   "language": "python",
   "name": "python3"
  },
  "language_info": {
   "codemirror_mode": {
    "name": "ipython",
    "version": 3
   },
   "file_extension": ".py",
   "mimetype": "text/x-python",
   "name": "python",
   "nbconvert_exporter": "python",
   "pygments_lexer": "ipython3",
   "version": "3.9.2"
  }
 },
 "nbformat": 4,
 "nbformat_minor": 5
}
