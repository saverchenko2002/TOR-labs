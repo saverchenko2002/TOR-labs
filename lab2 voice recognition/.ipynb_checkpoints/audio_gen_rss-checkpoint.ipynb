{
 "cells": [
  {
   "cell_type": "code",
   "execution_count": 11,
   "id": "bd97e202-d49a-41ee-80d8-ed2ea8d9c291",
   "metadata": {},
   "outputs": [],
   "source": [
    "import requests\n",
    "import json\n",
    "import os"
   ]
  },
  {
   "cell_type": "code",
   "execution_count": 12,
   "id": "4908a13a-84c8-45a4-a315-007590e9301f",
   "metadata": {},
   "outputs": [],
   "source": [
    "def extract_phrases(path):\n",
    "    list_of_phrases = []\n",
    "    with open(path, \"r\", encoding=\"utf-8\") as file:\n",
    "        for line in file:\n",
    "            list_of_phrases.append(line.strip())\n",
    "    return list_of_phrases\n",
    "\n",
    "def download_wav(url, filename):\n",
    "    response = requests.get(url)\n",
    "    if response.status_code == 200:\n",
    "        with open(filename, 'wb') as file:\n",
    "            file.write(response.content)\n",
    "        print(\"Аудиофайл успешно скачан.\")\n",
    "    else:\n",
    "        print(\"Не удалось скачать аудиофайл.\")"
   ]
  },
  {
   "cell_type": "code",
   "execution_count": 13,
   "id": "95179a88-717d-4fd5-aa17-ef7d20e5e6da",
   "metadata": {},
   "outputs": [],
   "source": [
    "initial_phrases_txt_path = r\"C:\\Users\\SergeySaber\\Desktop\\AI works\\university\\labs\\1. tts\\resources\\texts\\crossed_phrases.txt\"\n",
    "api_key = \"b9c48ff7cf2c4352b21ddaf69e505d01\"\n",
    "\n",
    "locale = \"ru-ru\"\n",
    "sample_rate = \"44khz_16bit_mono\"\n",
    "voice_list = [\"Olga\", \"Marina\", \"Peter\"]\n",
    "\n",
    "save_directory = \"C:\\\\Users\\\\SergeySaber\\\\Desktop\\\\AI works\\\\university\\\\labs\\\\1. tts\\\\resources\\\\voicerss_crossed\\\\\""
   ]
  },
  {
   "cell_type": "code",
   "execution_count": null,
   "id": "1634b4e3-9386-4780-a4a3-15d5134ab580",
   "metadata": {},
   "outputs": [],
   "source": []
  },
  {
   "cell_type": "code",
   "execution_count": 14,
   "id": "af977ef5-e36e-4e13-8cd4-bffb951175bc",
   "metadata": {},
   "outputs": [],
   "source": [
    "initial_phrases = extract_phrases(initial_phrases_txt_path)"
   ]
  },
  {
   "cell_type": "code",
   "execution_count": 15,
   "id": "819ad7e8-a178-461b-9278-409ffd60256e",
   "metadata": {},
   "outputs": [
    {
     "name": "stdout",
     "output_type": "stream",
     "text": [
      "Аудиофайл успешно скачан.\n",
      "Аудиофайл успешно скачан.\n",
      "Аудиофайл успешно скачан.\n",
      "Аудиофайл успешно скачан.\n",
      "Аудиофайл успешно скачан.\n",
      "Аудиофайл успешно скачан.\n",
      "Аудиофайл успешно скачан.\n",
      "Аудиофайл успешно скачан.\n",
      "Аудиофайл успешно скачан.\n",
      "Аудиофайл успешно скачан.\n",
      "Аудиофайл успешно скачан.\n",
      "Аудиофайл успешно скачан.\n",
      "Аудиофайл успешно скачан.\n",
      "Аудиофайл успешно скачан.\n",
      "Аудиофайл успешно скачан.\n",
      "Аудиофайл успешно скачан.\n",
      "Аудиофайл успешно скачан.\n",
      "Аудиофайл успешно скачан.\n",
      "Аудиофайл успешно скачан.\n",
      "Аудиофайл успешно скачан.\n",
      "Аудиофайл успешно скачан.\n",
      "Аудиофайл успешно скачан.\n",
      "Аудиофайл успешно скачан.\n",
      "Аудиофайл успешно скачан.\n",
      "Аудиофайл успешно скачан.\n",
      "Аудиофайл успешно скачан.\n",
      "Аудиофайл успешно скачан.\n",
      "Аудиофайл успешно скачан.\n",
      "Аудиофайл успешно скачан.\n",
      "Аудиофайл успешно скачан.\n"
     ]
    }
   ],
   "source": [
    "for voice in voice_list:\n",
    "    folder_name = save_directory+voice\n",
    "    if not os.path.exists(folder_name):\n",
    "        os.makedirs(folder_name)\n",
    "    for phrase in initial_phrases:\n",
    "        tts_url = f\"http://api.voicerss.org/?key={api_key}&v={voice}&f={sample_rate}&hl={locale}&src={phrase}\"\n",
    "        download_wav(tts_url, folder_name+\"\\\\\"+phrase+\".wav\")"
   ]
  },
  {
   "cell_type": "code",
   "execution_count": null,
   "id": "59215dcf-6ec5-49c3-8ad0-98a8c72df291",
   "metadata": {},
   "outputs": [],
   "source": []
  }
 ],
 "metadata": {
  "kernelspec": {
   "display_name": "Python 3",
   "language": "python",
   "name": "python3"
  },
  "language_info": {
   "codemirror_mode": {
    "name": "ipython",
    "version": 3
   },
   "file_extension": ".py",
   "mimetype": "text/x-python",
   "name": "python",
   "nbconvert_exporter": "python",
   "pygments_lexer": "ipython3",
   "version": "3.9.2"
  }
 },
 "nbformat": 4,
 "nbformat_minor": 5
}
